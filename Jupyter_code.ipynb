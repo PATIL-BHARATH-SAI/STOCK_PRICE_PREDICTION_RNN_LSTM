{
  "nbformat": 4,
  "nbformat_minor": 0,
  "metadata": {
    "colab": {
      "provenance": []
    },
    "kernelspec": {
      "name": "python3",
      "display_name": "Python 3"
    },
    "language_info": {
      "name": "python"
    }
  },
  "cells": [
    {
      "cell_type": "code",
      "execution_count": 19,
      "metadata": {
        "id": "1s6uR7U2q7Bs"
      },
      "outputs": [],
      "source": [
        "import numpy as np\n",
        "import pandas as pd\n",
        "import matplotlib.pyplot as plt\n",
        "from sklearn.preprocessing import MinMaxScaler\n",
        "from sklearn.metrics import mean_absolute_error\n",
        "from keras.models import Sequential\n",
        "from keras.layers import LSTM, Dense, Dropout"
      ]
    },
    {
      "cell_type": "code",
      "source": [
        "# Load the data\n",
        "df = pd.read_csv('/content/apple_share_price.csv')"
      ],
      "metadata": {
        "id": "PLBKiJnuxPAe"
      },
      "execution_count": 20,
      "outputs": []
    },
    {
      "cell_type": "code",
      "source": [
        "# Preprocess the data\n",
        "scaler = MinMaxScaler(feature_range=(0, 1))\n",
        "scaled_data = scaler.fit_transform(df['Close'].values.reshape(-1, 1))\n",
        "# Split the data into training and testing sets\n",
        "train_size = int(len(scaled_data) * 0.8)\n",
        "train_data = scaled_data[:train_size]\n",
        "test_data = scaled_data[train_size:]\n",
        "# Build the LSTM model\n",
        "model = Sequential()\n",
        "model.add(LSTM(units=100, return_sequences=True, input_shape=(train_data.shape[1], 1)))\n",
        "model.add(LSTM(units=100))\n",
        "model.add(Dense(units=1))\n",
        "# Compile the model\n",
        "model.compile(optimizer='adam', loss='mean_squared_error')"
      ],
      "metadata": {
        "id": "5tqvOElixPJ5"
      },
      "execution_count": 21,
      "outputs": []
    },
    {
      "cell_type": "code",
      "source": [
        "# Train the model\n",
        "model.fit(train_data, train_data, epochs=100, batch_size=32)"
      ],
      "metadata": {
        "colab": {
          "base_uri": "https://localhost:8080/"
        },
        "id": "02MjQesvxj-7",
        "outputId": "6c29668a-b041-4cd9-9d92-f9da431d4821"
      },
      "execution_count": 22,
      "outputs": [
        {
          "output_type": "stream",
          "name": "stdout",
          "text": [
            "Epoch 1/100\n",
            "42/42 [==============================] - 5s 7ms/step - loss: 0.1196\n",
            "Epoch 2/100\n",
            "42/42 [==============================] - 0s 6ms/step - loss: 0.0142\n",
            "Epoch 3/100\n",
            "42/42 [==============================] - 0s 6ms/step - loss: 0.0060\n",
            "Epoch 4/100\n",
            "42/42 [==============================] - 0s 6ms/step - loss: 0.0014\n",
            "Epoch 5/100\n",
            "42/42 [==============================] - 0s 7ms/step - loss: 2.3532e-04\n",
            "Epoch 6/100\n",
            "42/42 [==============================] - 0s 7ms/step - loss: 1.9342e-04\n",
            "Epoch 7/100\n",
            "42/42 [==============================] - 0s 7ms/step - loss: 1.8461e-04\n",
            "Epoch 8/100\n",
            "42/42 [==============================] - 0s 6ms/step - loss: 1.6503e-04\n",
            "Epoch 9/100\n",
            "42/42 [==============================] - 0s 7ms/step - loss: 1.5227e-04\n",
            "Epoch 10/100\n",
            "42/42 [==============================] - 0s 7ms/step - loss: 1.3810e-04\n",
            "Epoch 11/100\n",
            "42/42 [==============================] - 0s 6ms/step - loss: 1.2899e-04\n",
            "Epoch 12/100\n",
            "42/42 [==============================] - 0s 6ms/step - loss: 1.1201e-04\n",
            "Epoch 13/100\n",
            "42/42 [==============================] - 0s 7ms/step - loss: 1.0194e-04\n",
            "Epoch 14/100\n",
            "42/42 [==============================] - 0s 6ms/step - loss: 8.6564e-05\n",
            "Epoch 15/100\n",
            "42/42 [==============================] - 0s 6ms/step - loss: 7.4738e-05\n",
            "Epoch 16/100\n",
            "42/42 [==============================] - 0s 7ms/step - loss: 6.6129e-05\n",
            "Epoch 17/100\n",
            "42/42 [==============================] - 0s 9ms/step - loss: 5.6781e-05\n",
            "Epoch 18/100\n",
            "42/42 [==============================] - 0s 8ms/step - loss: 4.5316e-05\n",
            "Epoch 19/100\n",
            "42/42 [==============================] - 0s 7ms/step - loss: 3.6202e-05\n",
            "Epoch 20/100\n",
            "42/42 [==============================] - 0s 6ms/step - loss: 2.9028e-05\n",
            "Epoch 21/100\n",
            "42/42 [==============================] - 0s 6ms/step - loss: 2.3230e-05\n",
            "Epoch 22/100\n",
            "42/42 [==============================] - 0s 9ms/step - loss: 1.7867e-05\n",
            "Epoch 23/100\n",
            "42/42 [==============================] - 0s 9ms/step - loss: 1.3394e-05\n",
            "Epoch 24/100\n",
            "42/42 [==============================] - 0s 9ms/step - loss: 1.0150e-05\n",
            "Epoch 25/100\n",
            "42/42 [==============================] - 0s 9ms/step - loss: 7.4527e-06\n",
            "Epoch 26/100\n",
            "42/42 [==============================] - 0s 9ms/step - loss: 5.2898e-06\n",
            "Epoch 27/100\n",
            "42/42 [==============================] - 0s 9ms/step - loss: 3.6703e-06\n",
            "Epoch 28/100\n",
            "42/42 [==============================] - 0s 9ms/step - loss: 2.5751e-06\n",
            "Epoch 29/100\n",
            "42/42 [==============================] - 0s 8ms/step - loss: 1.7877e-06\n",
            "Epoch 30/100\n",
            "42/42 [==============================] - 0s 6ms/step - loss: 1.2259e-06\n",
            "Epoch 31/100\n",
            "42/42 [==============================] - 0s 6ms/step - loss: 7.1875e-07\n",
            "Epoch 32/100\n",
            "42/42 [==============================] - 0s 7ms/step - loss: 4.7642e-07\n",
            "Epoch 33/100\n",
            "42/42 [==============================] - 0s 7ms/step - loss: 2.9040e-07\n",
            "Epoch 34/100\n",
            "42/42 [==============================] - 0s 6ms/step - loss: 1.7195e-07\n",
            "Epoch 35/100\n",
            "42/42 [==============================] - 0s 6ms/step - loss: 1.1092e-07\n",
            "Epoch 36/100\n",
            "42/42 [==============================] - 0s 7ms/step - loss: 6.2500e-08\n",
            "Epoch 37/100\n",
            "42/42 [==============================] - 0s 6ms/step - loss: 3.8179e-08\n",
            "Epoch 38/100\n",
            "42/42 [==============================] - 0s 6ms/step - loss: 2.6468e-08\n",
            "Epoch 39/100\n",
            "42/42 [==============================] - 0s 9ms/step - loss: 1.4458e-08\n",
            "Epoch 40/100\n",
            "42/42 [==============================] - 0s 9ms/step - loss: 9.4029e-09\n",
            "Epoch 41/100\n",
            "42/42 [==============================] - 0s 8ms/step - loss: 6.3637e-09\n",
            "Epoch 42/100\n",
            "42/42 [==============================] - 0s 6ms/step - loss: 4.7951e-09\n",
            "Epoch 43/100\n",
            "42/42 [==============================] - 0s 6ms/step - loss: 3.9114e-09\n",
            "Epoch 44/100\n",
            "42/42 [==============================] - 0s 6ms/step - loss: 3.4420e-09\n",
            "Epoch 45/100\n",
            "42/42 [==============================] - 0s 6ms/step - loss: 3.2162e-09\n",
            "Epoch 46/100\n",
            "42/42 [==============================] - 0s 6ms/step - loss: 3.1741e-09\n",
            "Epoch 47/100\n",
            "42/42 [==============================] - 0s 7ms/step - loss: 3.0189e-09\n",
            "Epoch 48/100\n",
            "42/42 [==============================] - 0s 6ms/step - loss: 2.9648e-09\n",
            "Epoch 49/100\n",
            "42/42 [==============================] - 0s 6ms/step - loss: 3.1270e-09\n",
            "Epoch 50/100\n",
            "42/42 [==============================] - 0s 7ms/step - loss: 3.1459e-09\n",
            "Epoch 51/100\n",
            "42/42 [==============================] - 0s 7ms/step - loss: 3.1272e-09\n",
            "Epoch 52/100\n",
            "42/42 [==============================] - 0s 6ms/step - loss: 3.2230e-09\n",
            "Epoch 53/100\n",
            "42/42 [==============================] - 0s 6ms/step - loss: 2.8376e-09\n",
            "Epoch 54/100\n",
            "42/42 [==============================] - 0s 6ms/step - loss: 2.8454e-09\n",
            "Epoch 55/100\n",
            "42/42 [==============================] - 0s 6ms/step - loss: 2.8931e-09\n",
            "Epoch 56/100\n",
            "42/42 [==============================] - 0s 6ms/step - loss: 3.0504e-09\n",
            "Epoch 57/100\n",
            "42/42 [==============================] - 0s 6ms/step - loss: 2.9492e-09\n",
            "Epoch 58/100\n",
            "42/42 [==============================] - 0s 6ms/step - loss: 2.9705e-09\n",
            "Epoch 59/100\n",
            "42/42 [==============================] - 0s 7ms/step - loss: 2.8115e-09\n",
            "Epoch 60/100\n",
            "42/42 [==============================] - 0s 6ms/step - loss: 2.8838e-09\n",
            "Epoch 61/100\n",
            "42/42 [==============================] - 0s 6ms/step - loss: 2.8181e-09\n",
            "Epoch 62/100\n",
            "42/42 [==============================] - 0s 6ms/step - loss: 3.3010e-09\n",
            "Epoch 63/100\n",
            "42/42 [==============================] - 0s 6ms/step - loss: 3.1432e-09\n",
            "Epoch 64/100\n",
            "42/42 [==============================] - 0s 7ms/step - loss: 2.9431e-09\n",
            "Epoch 65/100\n",
            "42/42 [==============================] - 0s 11ms/step - loss: 2.7452e-09\n",
            "Epoch 66/100\n",
            "42/42 [==============================] - 0s 11ms/step - loss: 3.3874e-09\n",
            "Epoch 67/100\n",
            "42/42 [==============================] - 0s 9ms/step - loss: 2.8649e-09\n",
            "Epoch 68/100\n",
            "42/42 [==============================] - 0s 9ms/step - loss: 3.3052e-09\n",
            "Epoch 69/100\n",
            "42/42 [==============================] - 0s 8ms/step - loss: 2.7832e-09\n",
            "Epoch 70/100\n",
            "42/42 [==============================] - 0s 9ms/step - loss: 3.2700e-09\n",
            "Epoch 71/100\n",
            "42/42 [==============================] - 0s 9ms/step - loss: 2.7009e-09\n",
            "Epoch 72/100\n",
            "42/42 [==============================] - 0s 9ms/step - loss: 2.7215e-09\n",
            "Epoch 73/100\n",
            "42/42 [==============================] - 0s 6ms/step - loss: 3.0786e-09\n",
            "Epoch 74/100\n",
            "42/42 [==============================] - 0s 6ms/step - loss: 3.0462e-09\n",
            "Epoch 75/100\n",
            "42/42 [==============================] - 0s 6ms/step - loss: 2.8450e-09\n",
            "Epoch 76/100\n",
            "42/42 [==============================] - 0s 6ms/step - loss: 2.8085e-09\n",
            "Epoch 77/100\n",
            "42/42 [==============================] - 0s 6ms/step - loss: 3.3019e-09\n",
            "Epoch 78/100\n",
            "42/42 [==============================] - 0s 6ms/step - loss: 2.6179e-09\n",
            "Epoch 79/100\n",
            "42/42 [==============================] - 0s 7ms/step - loss: 2.8007e-09\n",
            "Epoch 80/100\n",
            "42/42 [==============================] - 0s 6ms/step - loss: 3.0731e-09\n",
            "Epoch 81/100\n",
            "42/42 [==============================] - 0s 7ms/step - loss: 2.6645e-09\n",
            "Epoch 82/100\n",
            "42/42 [==============================] - 0s 6ms/step - loss: 2.7287e-09\n",
            "Epoch 83/100\n",
            "42/42 [==============================] - 0s 7ms/step - loss: 2.5978e-09\n",
            "Epoch 84/100\n",
            "42/42 [==============================] - 0s 6ms/step - loss: 2.7176e-09\n",
            "Epoch 85/100\n",
            "42/42 [==============================] - 0s 7ms/step - loss: 2.5909e-09\n",
            "Epoch 86/100\n",
            "42/42 [==============================] - 0s 7ms/step - loss: 2.6375e-09\n",
            "Epoch 87/100\n",
            "42/42 [==============================] - 0s 9ms/step - loss: 2.4607e-09\n",
            "Epoch 88/100\n",
            "42/42 [==============================] - 0s 9ms/step - loss: 2.4757e-09\n",
            "Epoch 89/100\n",
            "42/42 [==============================] - 0s 8ms/step - loss: 2.8028e-09\n",
            "Epoch 90/100\n",
            "42/42 [==============================] - 0s 6ms/step - loss: 3.0245e-09\n",
            "Epoch 91/100\n",
            "42/42 [==============================] - 0s 6ms/step - loss: 3.2544e-09\n",
            "Epoch 92/100\n",
            "42/42 [==============================] - 0s 7ms/step - loss: 2.4129e-09\n",
            "Epoch 93/100\n",
            "42/42 [==============================] - 0s 6ms/step - loss: 2.6846e-09\n",
            "Epoch 94/100\n",
            "42/42 [==============================] - 0s 6ms/step - loss: 3.2641e-09\n",
            "Epoch 95/100\n",
            "42/42 [==============================] - 0s 6ms/step - loss: 3.0851e-09\n",
            "Epoch 96/100\n",
            "42/42 [==============================] - 0s 6ms/step - loss: 2.5651e-09\n",
            "Epoch 97/100\n",
            "42/42 [==============================] - 0s 6ms/step - loss: 2.9517e-09\n",
            "Epoch 98/100\n",
            "42/42 [==============================] - 0s 6ms/step - loss: 2.5093e-09\n",
            "Epoch 99/100\n",
            "42/42 [==============================] - 0s 7ms/step - loss: 2.4870e-09\n",
            "Epoch 100/100\n",
            "42/42 [==============================] - 0s 6ms/step - loss: 2.7305e-09\n"
          ]
        },
        {
          "output_type": "execute_result",
          "data": {
            "text/plain": [
              "<keras.src.callbacks.History at 0x7831918ebaf0>"
            ]
          },
          "metadata": {},
          "execution_count": 22
        }
      ]
    },
    {
      "cell_type": "code",
      "source": [
        "# Evaluate the model\n",
        "predictions = model.predict(test_data)\n",
        "predictions = scaler.inverse_transform(predictions)"
      ],
      "metadata": {
        "colab": {
          "base_uri": "https://localhost:8080/"
        },
        "id": "8gX1IF4wxkl2",
        "outputId": "377a36e5-95cf-4e46-8bc0-de6a4ccb805a"
      },
      "execution_count": 23,
      "outputs": [
        {
          "output_type": "stream",
          "name": "stdout",
          "text": [
            "11/11 [==============================] - 1s 4ms/step\n"
          ]
        }
      ]
    },
    {
      "cell_type": "code",
      "source": [
        "# Calculate the mean absolute error\n",
        "mae = mean_absolute_error(test_data, predictions)\n",
        "print('MAE:', mae)"
      ],
      "metadata": {
        "colab": {
          "base_uri": "https://localhost:8080/"
        },
        "id": "hBTexURwxkxm",
        "outputId": "f12ce621-acf1-40f8-abb2-3dee22474d6c"
      },
      "execution_count": 24,
      "outputs": [
        {
          "output_type": "stream",
          "name": "stdout",
          "text": [
            "MAE: 57.61431422574825\n"
          ]
        }
      ]
    },
    {
      "cell_type": "code",
      "source": [
        "# Plot the results\n",
        "plt.plot(test_data, label='Actual')\n",
        "plt.plot(predictions, label='Predicted')\n",
        "plt.legend()\n",
        "plt.show()"
      ],
      "metadata": {
        "colab": {
          "base_uri": "https://localhost:8080/",
          "height": 430
        },
        "id": "hjbi3YXAxPYG",
        "outputId": "d71a41fc-7f4d-490f-b715-7a1798cc3785"
      },
      "execution_count": 25,
      "outputs": [
        {
          "output_type": "display_data",
          "data": {
            "text/plain": [
              "<Figure size 640x480 with 1 Axes>"
            ],
            "image/png": "[encoded data removed]"
          },
          "metadata": {}
        }
      ]
    },
    {
      "cell_type": "code",
      "source": [],
      "metadata": {
        "id": "hBobmc3pyDID"
      },
      "execution_count": null,
      "outputs": []
    }
  ]
}